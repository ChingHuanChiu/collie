{
 "cells": [
  {
   "cell_type": "markdown",
   "metadata": {},
   "source": [
    "# The Regular usage of collie"
   ]
  },
  {
   "cell_type": "code",
   "execution_count": 1,
   "metadata": {},
   "outputs": [
    {
     "name": "stderr",
     "output_type": "stream",
     "text": [
      "/Users/apple/opt/anaconda3/envs/collie/lib/python3.11/site-packages/tqdm/auto.py:21: TqdmWarning: IProgress not found. Please update jupyter and ipywidgets. See https://ipywidgets.readthedocs.io/en/stable/user_install.html\n",
      "  from .autonotebook import tqdm as notebook_tqdm\n"
     ]
    }
   ],
   "source": [
    "import sys\n",
    "import os\n",
    "sys.path.append(\"../..\")\n",
    "\n",
    "import torch\n",
    "import torch.nn as nn\n",
    "import torch.optim as optim\n",
    "import pandas as pd\n",
    "from torch.utils.data import DataLoader, TensorDataset\n",
    "\n",
    "from collie.core import (\n",
    "    Transformer,\n",
    "    Trainer,\n",
    "    Evaluator,\n",
    "    Pusher,\n",
    "    TrainerPayload,\n",
    "    TransformerPayload,\n",
    "    TunerPayload,\n",
    "    EvaluatorPayload,\n",
    "    PusherPayload,\n",
    "    Orchestrator\n",
    ")\n",
    "\n",
    "from collie import Event"
   ]
  },
  {
   "cell_type": "code",
   "execution_count": 2,
   "metadata": {},
   "outputs": [],
   "source": [
    "num_samples = 1000\n",
    "input_dim = 20   \n",
    "num_classes = 4"
   ]
  },
  {
   "cell_type": "markdown",
   "metadata": {},
   "source": [
    "## Transformer"
   ]
  },
  {
   "cell_type": "code",
   "execution_count": 3,
   "metadata": {},
   "outputs": [],
   "source": [
    "class MLPTransformer(Transformer):\n",
    "    def __init__(self) -> None:\n",
    "        super().__init__()\n",
    "\n",
    "    def handle(self, event) -> Event:\n",
    "\n",
    "        X = torch.randn(num_samples, input_dim)\n",
    "        y = torch.randint(0, num_classes, (num_samples,))\n",
    "\n",
    "        X_data = pd.DataFrame(X.numpy(), columns=[f\"feature_{i}\" for i in range(input_dim)])\n",
    "        y_data = pd.DataFrame(y.numpy(), columns=[\"label\"])\n",
    "\n",
    "        train_data = pd.concat([X_data, y_data], axis=1)\n",
    "\n",
    "        return Event(\n",
    "            payload=TransformerPayload(\n",
    "                train_data=train_data,\n",
    "                validation_data=None,\n",
    "                test_data=None\n",
    "            )\n",
    "        )"
   ]
  },
  {
   "cell_type": "markdown",
   "metadata": {},
   "source": [
    "# Tuner"
   ]
  },
  {
   "cell_type": "code",
   "execution_count": 4,
   "metadata": {},
   "outputs": [],
   "source": [
    "class MLPTuner(Tuner):\n",
    "    def __init__(self) -> None:\n",
    "        super().__init__()\n",
    "\n",
    "    def handle(self, event: Event) -> Event:\n",
    "        # Find the best hyperparameters (dummy example)\n",
    "        hyperparameters = {\n",
    "            \"learning_rate\": 0.001,\n",
    "            \"batch_size\": 32,\n",
    "        }\n",
    "        # Need to pass train, validation, test data to the next stage\n",
    "        return Event(\n",
    "            payload=TunerPayload(\n",
    "                hyperparameters=hyperparameters,\n",
    "                train_data=event.payload.train_data,\n",
    "                validation_data=event.payload.validation_data,\n",
    "                test_data=event.payload.test_data\n",
    "            )\n",
    "        )"
   ]
  },
  {
   "cell_type": "markdown",
   "metadata": {},
   "source": [
    "## Trainer"
   ]
  },
  {
   "cell_type": "code",
   "execution_count": 9,
   "metadata": {},
   "outputs": [],
   "source": [
    "class SimpleClassifier(nn.Module):\n",
    "    def __init__(self):\n",
    "        super().__init__()\n",
    "        self.fc1 = nn.Linear(input_dim, 64)\n",
    "        self.relu = nn.ReLU()\n",
    "        self.fc2 = nn.Linear(64, num_classes)\n",
    "\n",
    "    def forward(self, x):\n",
    "        x = self.relu(self.fc1(x))\n",
    "        return self.fc2(x)\n",
    "\n",
    "\n",
    "class MLPTrainer(Trainer):\n",
    "    def __init__(self):\n",
    "        super().__init__()\n",
    "        self.model = SimpleClassifier()\n",
    "        self.criterion = nn.CrossEntropyLoss()\n",
    "        \n",
    "        self.device = torch.device(\"cuda\" if torch.cuda.is_available() else \"cpu\")\n",
    "        self.optimizer = None\n",
    "        self.scheduler = None\n",
    "\n",
    "    def handle(self, event):\n",
    "\n",
    "        learning_rate = event.payload.hyperparameters.get(\"learning_rate\")\n",
    "        batch_size = event.payload.hyperparameters.get(\"batch_size\")\n",
    "        print(f\"learning_rate: {learning_rate}, batch_size: {batch_size}\")\n",
    "        self.optimizer = optim.Adam(self.model.parameters(), lr=learning_rate)\n",
    "        self.scheduler = optim.lr_scheduler.StepLR(self.optimizer, step_size=10, gamma=0.1)\n",
    "        \n",
    "        train_data = event.payload.train_data\n",
    "\n",
    "        X = torch.tensor(train_data.drop(\"label\", axis=1).values, dtype=torch.float32)\n",
    "        y = torch.tensor(train_data[\"label\"].values, dtype=torch.long) \n",
    "\n",
    "        dataset = TensorDataset(X, y)\n",
    "        dataloader = DataLoader(dataset, batch_size=batch_size, shuffle=True)\n",
    "        epochs = 10\n",
    "        for epoch in range(1, epochs + 1):\n",
    "            self.model.train()\n",
    "            total_loss = 0.0\n",
    "            for xb, yb in dataloader:\n",
    "                xb, yb = xb.to(self.device), yb.to(self.device)\n",
    "                self.optimizer.zero_grad()\n",
    "                logits = self.model(xb)\n",
    "                loss = self.criterion(logits, yb)\n",
    "                loss.backward()\n",
    "                self.optimizer.step()\n",
    "                total_loss += loss.item()\n",
    "\n",
    "            self.log_metric(\"learning rate\", self.scheduler.get_last_lr()[0], step=epoch)\n",
    "            self.log_metric(\"loss\", round(total_loss/len(dataloader), 3), step=epoch)\n",
    "            \n",
    "        return Event(\n",
    "            payload=TrainerPayload(\n",
    "                model=self.model,\n",
    "                train_loss=total_loss/len(dataloader),\n",
    "                val_loss=None\n",
    "            )\n",
    "        )"
   ]
  },
  {
   "cell_type": "markdown",
   "metadata": {},
   "source": [
    "## Evaluator"
   ]
  },
  {
   "cell_type": "code",
   "execution_count": 10,
   "metadata": {},
   "outputs": [],
   "source": [
    "class MLPEvaluator(Evaluator):\n",
    "    def __init__(\n",
    "        self,\n",
    "        registered_model_name=\"MLPClassifier\",\n",
    "        model_uri=\"\" \n",
    "    ) -> None:\n",
    "        super().__init__(\n",
    "            registered_model_name=registered_model_name, \n",
    "            model_uri=model_uri\n",
    "        )\n",
    "\n",
    "    def handle(self, event):\n",
    "        model = event.payload.model\n",
    "        train_loss = event.payload.train_loss\n",
    "        #mock the production metrics\n",
    "        production_metric = 10\n",
    "\n",
    "        return Event(\n",
    "            payload=EvaluatorPayload(\n",
    "                metrics={\"Experiment\": train_loss, \"Production\": production_metric},\n",
    "                greater_is_better=False\n",
    "            )\n",
    "        )"
   ]
  },
  {
   "cell_type": "markdown",
   "metadata": {},
   "source": [
    "## Pusher"
   ]
  },
  {
   "cell_type": "code",
   "execution_count": 11,
   "metadata": {},
   "outputs": [],
   "source": [
    "class MLPPusher(Pusher):\n",
    "    def __init__(\n",
    "        self,\n",
    "        registered_model_name=\"MLPClassifier\"\n",
    "    ) -> None:\n",
    "        super().__init__(registered_model_name=registered_model_name)\n",
    "\n",
    "    def handle(self, event):\n",
    "        return Event(\n",
    "            payload=PusherPayload(\n",
    "                model_uri=\"mlp_model_uri\",\n",
    "            )\n",
    "        )"
   ]
  },
  {
   "cell_type": "markdown",
   "metadata": {},
   "source": [
    "## Main"
   ]
  },
  {
   "cell_type": "code",
   "execution_count": 12,
   "metadata": {},
   "outputs": [
    {
     "name": "stderr",
     "output_type": "stream",
     "text": [
      "2025/10/06 21:07:24 INFO mlflow.system_metrics.system_metrics_monitor: Skip logging GPU metrics. Set logger level to DEBUG for more details.\n",
      "2025/10/06 21:07:24 INFO mlflow.system_metrics.system_metrics_monitor: Started monitoring system metrics.\n",
      "/Users/apple/opt/anaconda3/envs/collie/lib/python3.11/site-packages/mlflow/data/dataset_source_registry.py:149: UserWarning: Failed to determine whether UCVolumeDatasetSource can resolve source information for '/Users/apple/Documents/PythonProject/collie/example/mlp/mlruns/1/ec2e397c62a641a79838467c47baf065/artifacts/train.csv'. Exception: \n",
      "  return _dataset_source_registry.resolve(\n",
      "/Users/apple/opt/anaconda3/envs/collie/lib/python3.11/site-packages/mlflow/data/dataset_source_registry.py:149: UserWarning: The specified dataset source can be interpreted in multiple ways: LocalArtifactDatasetSource, LocalArtifactDatasetSource. MLflow will assume that this is a LocalArtifactDatasetSource source.\n",
      "  return _dataset_source_registry.resolve(\n",
      "/Users/apple/opt/anaconda3/envs/collie/lib/python3.11/site-packages/mlflow/types/utils.py:452: UserWarning: Hint: Inferred schema contains integer column(s). Integer columns in Python cannot represent missing values. If your input data contains missing values at inference time, it will be encoded as floats and will cause a schema enforcement error. The best way to avoid this problem is to infer the model schema based on a realistic data sample (training dataset) that includes missing values. Alternatively, you can declare integer columns as doubles (float64) whenever these columns may have missing values. See `Handling Integers With Missing Values <https://www.mlflow.org/docs/latest/models.html#handling-integers-with-missing-values>`_ for more details.\n",
      "  warnings.warn(\n",
      "2025/10/06 21:07:25 INFO mlflow.system_metrics.system_metrics_monitor: Stopping system metrics monitoring...\n",
      "2025/10/06 21:07:25 INFO mlflow.system_metrics.system_metrics_monitor: Successfully terminated system metrics monitoring!\n",
      "2025/10/06 21:07:25 INFO mlflow.system_metrics.system_metrics_monitor: Skip logging GPU metrics. Set logger level to DEBUG for more details.\n",
      "2025/10/06 21:07:25 INFO mlflow.system_metrics.system_metrics_monitor: Started monitoring system metrics.\n",
      "2025/10/06 21:07:25 INFO mlflow.system_metrics.system_metrics_monitor: Stopping system metrics monitoring...\n",
      "2025/10/06 21:07:25 INFO mlflow.system_metrics.system_metrics_monitor: Successfully terminated system metrics monitoring!\n",
      "2025/10/06 21:07:25 INFO mlflow.system_metrics.system_metrics_monitor: Skip logging GPU metrics. Set logger level to DEBUG for more details.\n",
      "2025/10/06 21:07:25 INFO mlflow.system_metrics.system_metrics_monitor: Started monitoring system metrics.\n"
     ]
    },
    {
     "name": "stdout",
     "output_type": "stream",
     "text": [
      "🏃 View run Transformer at: http://localhost:5001/#/experiments/1/runs/ec2e397c62a641a79838467c47baf065\n",
      "🧪 View experiment at: http://localhost:5001/#/experiments/1\n",
      "🏃 View run Tuner at: http://localhost:5001/#/experiments/1/runs/c09df186464d4cdfb9ec00d1f4118260\n",
      "🧪 View experiment at: http://localhost:5001/#/experiments/1\n",
      "learning_rate: 0.001, batch_size: 32\n"
     ]
    },
    {
     "name": "stderr",
     "output_type": "stream",
     "text": [
      "2025/10/06 21:07:26 WARNING mlflow.models.model: `artifact_path` is deprecated. Please use `name` instead.\n",
      "\u001b[31m2025/10/06 21:07:33 WARNING mlflow.models.model: Model logged without a signature and input example. Please set `input_example` parameter when logging the model to auto infer the model signature.\u001b[0m\n",
      "2025/10/06 21:07:33 INFO mlflow.system_metrics.system_metrics_monitor: Stopping system metrics monitoring...\n",
      "2025/10/06 21:07:33 INFO mlflow.system_metrics.system_metrics_monitor: Successfully terminated system metrics monitoring!\n",
      "2025/10/06 21:07:33 INFO mlflow.system_metrics.system_metrics_monitor: Skip logging GPU metrics. Set logger level to DEBUG for more details.\n",
      "2025/10/06 21:07:33 INFO mlflow.system_metrics.system_metrics_monitor: Started monitoring system metrics.\n",
      "Registered model 'MLPClassifier' already exists. Creating a new version of this model...\n",
      "2025/10/06 21:07:33 WARNING mlflow.tracking._model_registry.fluent: Run with id b3722103ac2a4208bdac2681cd35f050 has no artifacts at artifact path 'model', registering model based on models:/m-fd9381551eab4dca8662485aa300b877 instead\n"
     ]
    },
    {
     "name": "stdout",
     "output_type": "stream",
     "text": [
      "🏃 View run Trainer at: http://localhost:5001/#/experiments/1/runs/b3722103ac2a4208bdac2681cd35f050\n",
      "🧪 View experiment at: http://localhost:5001/#/experiments/1\n",
      "Model URI: runs:/b3722103ac2a4208bdac2681cd35f050/model\n"
     ]
    },
    {
     "name": "stderr",
     "output_type": "stream",
     "text": [
      "2025/10/06 21:07:33 INFO mlflow.store.model_registry.abstract_store: Waiting up to 300 seconds for model version to finish creation. Model name: MLPClassifier, version 2\n",
      "Created version '2' of model 'MLPClassifier'.\n",
      "/Users/apple/Documents/PythonProject/collie/example/mlp/../../collie/contracts/mlflow.py:373: FutureWarning: ``mlflow.tracking.client.MlflowClient.get_latest_versions`` is deprecated since 2.9.0. Model registry stages will be removed in a future major release. To learn more about the deprecation of model registry stages, see our migration guide here: https://mlflow.org/docs/latest/model-registry.html#migrating-from-stages\n",
      "  latest_versions = self.mlflow_client.get_latest_versions(\n",
      "/Users/apple/Documents/PythonProject/collie/example/mlp/../../collie/contracts/mlflow.py:256: FutureWarning: ``mlflow.tracking.client.MlflowClient.transition_model_version_stage`` is deprecated since 2.9.0. Model registry stages will be removed in a future major release. To learn more about the deprecation of model registry stages, see our migration guide here: https://mlflow.org/docs/latest/model-registry.html#migrating-from-stages\n",
      "  self.mlflow_client.transition_model_version_stage(\n",
      "2025/10/06 21:07:33 INFO mlflow.system_metrics.system_metrics_monitor: Stopping system metrics monitoring...\n",
      "2025/10/06 21:07:33 INFO mlflow.system_metrics.system_metrics_monitor: Successfully terminated system metrics monitoring!\n"
     ]
    },
    {
     "name": "stdout",
     "output_type": "stream",
     "text": [
      "🏃 View run Evaluator at: http://localhost:5001/#/experiments/1/runs/8b41e983ba034ec7a0aa69215a3c706f\n",
      "🧪 View experiment at: http://localhost:5001/#/experiments/1\n",
      "🏃 View run Pusher at: http://localhost:5001/#/experiments/1/runs/f0a4772ccebf4b2c9d960b303a739129\n",
      "🧪 View experiment at: http://localhost:5001/#/experiments/1\n",
      "🏃 View run Orchestrator at: http://localhost:5001/#/experiments/1/runs/dfaa1c3f46224f8b99a6883dc1895ed6\n",
      "🧪 View experiment at: http://localhost:5001/#/experiments/1\n"
     ]
    }
   ],
   "source": [
    "orchestrator = Orchestrator(\n",
    "    tracking_uri=\"http://localhost:5001\",\n",
    "    components=[\n",
    "        MLPTransformer(),\n",
    "        MLPTuner(),\n",
    "        MLPTrainer(),\n",
    "        MLPEvaluator(),\n",
    "        MLPPusher()\n",
    "    ],\n",
    "    mlflow_tags={\"Example\": \"MLP\"},\n",
    "    experiment_name=\"MLP2\",\n",
    ")\n",
    "orchestrator.run()"
   ]
  },
  {
   "cell_type": "markdown",
   "metadata": {},
   "source": []
  },
  {
   "cell_type": "code",
   "execution_count": null,
   "metadata": {},
   "outputs": [],
   "source": []
  },
  {
   "cell_type": "code",
   "execution_count": null,
   "metadata": {},
   "outputs": [],
   "source": [
    "# TODO:\n",
    "# TEST pusher tuner"
   ]
  },
  {
   "cell_type": "code",
   "execution_count": null,
   "metadata": {},
   "outputs": [],
   "source": []
  }
 ],
 "metadata": {
  "kernelspec": {
   "display_name": "collie",
   "language": "python",
   "name": "python3"
  },
  "language_info": {
   "codemirror_mode": {
    "name": "ipython",
    "version": 3
   },
   "file_extension": ".py",
   "mimetype": "text/x-python",
   "name": "python",
   "nbconvert_exporter": "python",
   "pygments_lexer": "ipython3",
   "version": "3.11.2"
  }
 },
 "nbformat": 4,
 "nbformat_minor": 2
}
