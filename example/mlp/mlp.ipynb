{
 "cells": [
  {
   "cell_type": "markdown",
   "metadata": {},
   "source": [
    "# The Regular usage of collie"
   ]
  },
  {
   "cell_type": "code",
   "execution_count": 1,
   "metadata": {},
   "outputs": [
    {
     "name": "stderr",
     "output_type": "stream",
     "text": [
      "/Users/apple/opt/anaconda3/envs/collie/lib/python3.11/site-packages/tqdm/auto.py:21: TqdmWarning: IProgress not found. Please update jupyter and ipywidgets. See https://ipywidgets.readthedocs.io/en/stable/user_install.html\n",
      "  from .autonotebook import tqdm as notebook_tqdm\n"
     ]
    }
   ],
   "source": [
    "import sys\n",
    "import os\n",
    "sys.path.append(\"../..\")\n",
    "\n",
    "import torch\n",
    "import torch.nn as nn\n",
    "import torch.optim as optim\n",
    "import pandas as pd\n",
    "from torch.utils.data import DataLoader, TensorDataset\n",
    "\n",
    "# from collie import (\n",
    "#     Transformer,\n",
    "#     Trainer,\n",
    "#     Evaluator,\n",
    "#     Pusher,\n",
    "#     Event,\n",
    "#     TrainerPayload,\n",
    "#     TransformerPayload,\n",
    "#     EvaluatorPayload,\n",
    "#     PusherPayload,\n",
    "#     Orchestrator\n",
    "# )\n",
    "from collie.core.transform.transform import Transformer\n",
    "from collie.core.tuner.tuner import Tuner\n",
    "from collie.core.trainer.trainer import Trainer\n",
    "from collie.core.evaluator.evaluator import Evaluator\n",
    "from collie.core.pusher.pusher import Pusher\n",
    "from collie.core.orchestrator.orchestrator import Orchestrator\n",
    "from collie.contracts.event import Event\n",
    "from collie.core.models import (\n",
    "    TransformerPayload,\n",
    "    TrainerPayload,\n",
    "    TunerPayload,\n",
    "    EvaluatorPayload,\n",
    "    PusherPayload,\n",
    "    TrainerArtifactPath,\n",
    "    TransformerArtifactPath,\n",
    "    TunerArtifactPath,\n",
    "    EvaluatorArtifactPath,\n",
    "    PusherArtifactPath\n",
    ")"
   ]
  },
  {
   "cell_type": "code",
   "execution_count": 2,
   "metadata": {},
   "outputs": [],
   "source": [
    "num_samples = 1000\n",
    "input_dim = 20   \n",
    "num_classes = 4"
   ]
  },
  {
   "cell_type": "markdown",
   "metadata": {},
   "source": [
    "## Transformer"
   ]
  },
  {
   "cell_type": "code",
   "execution_count": 3,
   "metadata": {},
   "outputs": [],
   "source": [
    "class MLPTransformer(Transformer):\n",
    "    def __init__(self) -> None:\n",
    "        super().__init__()\n",
    "\n",
    "    def handle(self, event) -> Event:\n",
    "\n",
    "        X = torch.randn(num_samples, input_dim)\n",
    "        y = torch.randint(0, num_classes, (num_samples,))\n",
    "\n",
    "        X_data = pd.DataFrame(X.numpy(), columns=[f\"feature_{i}\" for i in range(input_dim)])\n",
    "        y_data = pd.DataFrame(y.numpy(), columns=[\"label\"])\n",
    "\n",
    "        train_data = pd.concat([X_data, y_data], axis=1)\n",
    "\n",
    "        return Event(\n",
    "            payload=TransformerPayload(\n",
    "                train_data=train_data,\n",
    "                validation_data=None,\n",
    "                test_data=None\n",
    "            )\n",
    "        )"
   ]
  },
  {
   "cell_type": "markdown",
   "metadata": {},
   "source": [
    "## Trainer"
   ]
  },
  {
   "cell_type": "code",
   "execution_count": 4,
   "metadata": {},
   "outputs": [],
   "source": [
    "class SimpleClassifier(nn.Module):\n",
    "    def __init__(self):\n",
    "        super().__init__()\n",
    "        self.fc1 = nn.Linear(input_dim, 64)\n",
    "        self.relu = nn.ReLU()\n",
    "        self.fc2 = nn.Linear(64, num_classes)\n",
    "\n",
    "    def forward(self, x):\n",
    "        x = self.relu(self.fc1(x))\n",
    "        return self.fc2(x)\n",
    "\n",
    "\n",
    "class MLPTrainer(Trainer):\n",
    "    def __init__(self):\n",
    "        super().__init__()\n",
    "        self.model = SimpleClassifier()\n",
    "        self.criterion = nn.CrossEntropyLoss()\n",
    "        self.optimizer = optim.Adam(self.model.parameters(), lr=0.001)\n",
    "        self.scheduler = optim.lr_scheduler.StepLR(self.optimizer, step_size=10, gamma=0.1)\n",
    "        self.device = torch.device(\"cuda\" if torch.cuda.is_available() else \"cpu\")\n",
    "\n",
    "    def handle(self, event):\n",
    "        \n",
    "        train_data = event.payload.train_data\n",
    "        X = train_data.drop(\"label\", axis=1)\n",
    "        y = train_data[\"label\"]\n",
    "\n",
    "        dataset = TensorDataset(X, y)\n",
    "        dataloader = DataLoader(dataset, batch_size=64, shuffle=True)\n",
    "        epochs = 10\n",
    "        for epoch in range(1, epochs + 1):\n",
    "            self.model.train()\n",
    "            total_loss = 0.0\n",
    "            for xb, yb in dataloader:\n",
    "                xb, yb = xb.to(self.device), yb.to(self.device)\n",
    "                self.optimizer.zero_grad()\n",
    "                logits = self.model(xb)\n",
    "                loss = self.criterion(logits, yb)\n",
    "                loss.backward()\n",
    "                self.optimizer.step()\n",
    "                total_loss += loss.item()\n",
    "\n",
    "            self.log_metric(\"learning rate\", self.scheduler.get_last_lr()[0], step=epoch)\n",
    "            self.log_metric(\"loss\", round(total_loss/len(dataloader), 3), step=epoch)\n",
    "            \n",
    "        return Event(\n",
    "            payload=TrainerPayload(\n",
    "                model=self.model,\n",
    "                train_loss=total_loss/len(dataloader),\n",
    "                val_loss=None\n",
    "            )\n",
    "        )"
   ]
  },
  {
   "cell_type": "markdown",
   "metadata": {},
   "source": [
    "## Evaluator"
   ]
  },
  {
   "cell_type": "code",
   "execution_count": 5,
   "metadata": {},
   "outputs": [],
   "source": [
    "class MLPEvaluator(Evaluator):\n",
    "    def __init__(\n",
    "        self,\n",
    "        registered_model_name=\"MLPClassifier\",\n",
    "        model_uri=\"\" \n",
    "    ) -> None:\n",
    "        super().__init__(\n",
    "            registered_model_name=registered_model_name, \n",
    "            model_uri=model_uri\n",
    "        )\n",
    "\n",
    "    def handle(self, event):\n",
    "        model = event.payload.model\n",
    "        train_loss = event.payload.train_loss\n",
    "        #mock the production metrics\n",
    "        production_metric = 10\n",
    "\n",
    "        return Event(\n",
    "            payload=EvaluatorPayload(\n",
    "                metrics={\"Experiment\": train_loss, \"Production\": production_metric},\n",
    "                greater_is_better=False\n",
    "            )\n",
    "        )"
   ]
  },
  {
   "cell_type": "markdown",
   "metadata": {},
   "source": [
    "## Pusher"
   ]
  },
  {
   "cell_type": "code",
   "execution_count": 6,
   "metadata": {},
   "outputs": [],
   "source": [
    "class MLPPusher(Pusher):\n",
    "    def __init__(\n",
    "        self,\n",
    "        registered_model_name=\"MLPClassifier\"\n",
    "    ) -> None:\n",
    "        super().__init__(registered_model_name=registered_model_name)\n",
    "\n",
    "    def handle(self, event):\n",
    "        return Event(\n",
    "            payload=PusherPayload(\n",
    "                model_uri=\"mlp_model_uri\",\n",
    "            )\n",
    "        )"
   ]
  },
  {
   "cell_type": "markdown",
   "metadata": {},
   "source": [
    "## Main"
   ]
  },
  {
   "cell_type": "code",
   "execution_count": 7,
   "metadata": {},
   "outputs": [
    {
     "name": "stderr",
     "output_type": "stream",
     "text": [
      "2025/09/16 23:21:01 INFO mlflow.system_metrics.system_metrics_monitor: Skip logging GPU metrics. Set logger level to DEBUG for more details.\n",
      "2025/09/16 23:21:01 INFO mlflow.system_metrics.system_metrics_monitor: Started monitoring system metrics.\n",
      "2025/09/16 23:21:01 INFO mlflow.system_metrics.system_metrics_monitor: Stopping system metrics monitoring...\n",
      "2025/09/16 23:21:01 INFO mlflow.system_metrics.system_metrics_monitor: Successfully terminated system metrics monitoring!\n"
     ]
    },
    {
     "name": "stdout",
     "output_type": "stream",
     "text": [
      "🏃 View run Transformer at: http://localhost:5001/#/experiments/1/runs/87a6e777e62f4e52a1da813ae94f9b61\n",
      "🧪 View experiment at: http://localhost:5001/#/experiments/1\n",
      "🏃 View run Orchestrator at: http://localhost:5001/#/experiments/1/runs/19aa78b7961f4c86bf657026d094290f\n",
      "🧪 View experiment at: http://localhost:5001/#/experiments/1\n"
     ]
    },
    {
     "ename": "ValueError",
     "evalue": "The truth value of a DataFrame is ambiguous. Use a.empty, a.bool(), a.item(), a.any() or a.all().",
     "output_type": "error",
     "traceback": [
      "\u001b[0;31m---------------------------------------------------------------------------\u001b[0m",
      "\u001b[0;31mValueError\u001b[0m                                Traceback (most recent call last)",
      "Cell \u001b[0;32mIn[7], line 12\u001b[0m\n\u001b[1;32m      1\u001b[0m orchestrator \u001b[38;5;241m=\u001b[39m Orchestrator(\n\u001b[1;32m      2\u001b[0m     tracking_uri\u001b[38;5;241m=\u001b[39m\u001b[38;5;124m\"\u001b[39m\u001b[38;5;124mhttp://localhost:5001\u001b[39m\u001b[38;5;124m\"\u001b[39m,\n\u001b[1;32m      3\u001b[0m     components\u001b[38;5;241m=\u001b[39m[\n\u001b[0;32m   (...)\u001b[0m\n\u001b[1;32m     10\u001b[0m     experiment_name\u001b[38;5;241m=\u001b[39m\u001b[38;5;124m\"\u001b[39m\u001b[38;5;124mMLP\u001b[39m\u001b[38;5;124m\"\u001b[39m,\n\u001b[1;32m     11\u001b[0m )\n\u001b[0;32m---> 12\u001b[0m \u001b[43morchestrator\u001b[49m\u001b[38;5;241;43m.\u001b[39;49m\u001b[43mrun\u001b[49m\u001b[43m(\u001b[49m\u001b[43m)\u001b[49m\n",
      "File \u001b[0;32m~/Documents/PythonProject/collie/example/mlp/../../collie/contracts/orchestrator.py:57\u001b[0m, in \u001b[0;36mOrchestratorBase.run\u001b[0;34m(self)\u001b[0m\n\u001b[1;32m     48\u001b[0m experiment_id \u001b[38;5;241m=\u001b[39m \u001b[38;5;28mself\u001b[39m\u001b[38;5;241m.\u001b[39mget_exp_id(\u001b[38;5;28mself\u001b[39m\u001b[38;5;241m.\u001b[39mexperiment_name)\n\u001b[1;32m     50\u001b[0m \u001b[38;5;28;01mwith\u001b[39;00m \u001b[38;5;28mself\u001b[39m\u001b[38;5;241m.\u001b[39mstart_run(\n\u001b[1;32m     51\u001b[0m     tags\u001b[38;5;241m=\u001b[39m\u001b[38;5;28mself\u001b[39m\u001b[38;5;241m.\u001b[39mmlflow_tags, \n\u001b[1;32m     52\u001b[0m     run_name\u001b[38;5;241m=\u001b[39m\u001b[38;5;124m\"\u001b[39m\u001b[38;5;124mOrchestrator\u001b[39m\u001b[38;5;124m\"\u001b[39m, \n\u001b[1;32m     53\u001b[0m     description\u001b[38;5;241m=\u001b[39m\u001b[38;5;28mself\u001b[39m\u001b[38;5;241m.\u001b[39mdescription, \n\u001b[1;32m     54\u001b[0m     experiment_id\u001b[38;5;241m=\u001b[39mexperiment_id\n\u001b[1;32m     55\u001b[0m ):\n\u001b[0;32m---> 57\u001b[0m     res \u001b[38;5;241m=\u001b[39m \u001b[38;5;28;43mself\u001b[39;49m\u001b[38;5;241;43m.\u001b[39;49m\u001b[43morchestrate_pipeline\u001b[49m\u001b[43m(\u001b[49m\u001b[43m)\u001b[49m\n\u001b[1;32m     58\u001b[0m \u001b[38;5;28;01mreturn\u001b[39;00m res\n",
      "File \u001b[0;32m~/Documents/PythonProject/collie/example/mlp/../../collie/core/orchestrator/orchestrator.py:52\u001b[0m, in \u001b[0;36mOrchestrator.orchestrate_pipeline\u001b[0;34m(self)\u001b[0m\n\u001b[1;32m     50\u001b[0m     logger\u001b[38;5;241m.\u001b[39minfo(\u001b[38;5;124mf\u001b[39m\u001b[38;5;124m\"\u001b[39m\u001b[38;5;124mRunning component \u001b[39m\u001b[38;5;132;01m{\u001b[39;00midx\u001b[38;5;132;01m}\u001b[39;00m\u001b[38;5;124m: \u001b[39m\u001b[38;5;132;01m{\u001b[39;00m\u001b[38;5;28mtype\u001b[39m(component)\u001b[38;5;241m.\u001b[39m\u001b[38;5;18m__name__\u001b[39m\u001b[38;5;132;01m}\u001b[39;00m\u001b[38;5;124m\"\u001b[39m)\n\u001b[1;32m     51\u001b[0m     component\u001b[38;5;241m.\u001b[39mmlflow_client \u001b[38;5;241m=\u001b[39m \u001b[38;5;28mself\u001b[39m\u001b[38;5;241m.\u001b[39mmlflow_client\n\u001b[0;32m---> 52\u001b[0m     incoming_event \u001b[38;5;241m=\u001b[39m \u001b[38;5;28;43mself\u001b[39;49m\u001b[38;5;241;43m.\u001b[39;49m\u001b[43mrun_component\u001b[49m\u001b[43m(\u001b[49m\u001b[43mcomponent\u001b[49m\u001b[43m,\u001b[49m\u001b[43m \u001b[49m\u001b[43mincoming_event\u001b[49m\u001b[43m)\u001b[49m\n\u001b[1;32m     54\u001b[0m logger\u001b[38;5;241m.\u001b[39minfo(\u001b[38;5;124m\"\u001b[39m\u001b[38;5;124mPipeline finished successfully.\u001b[39m\u001b[38;5;124m\"\u001b[39m)\n",
      "File \u001b[0;32m~/Documents/PythonProject/collie/example/mlp/../../collie/core/orchestrator/orchestrator.py:115\u001b[0m, in \u001b[0;36mOrchestrator.run_component\u001b[0;34m(self, component, incoming_event)\u001b[0m\n\u001b[1;32m    112\u001b[0m \u001b[38;5;28;01melse\u001b[39;00m:\n\u001b[1;32m    113\u001b[0m     \u001b[38;5;28;01mraise\u001b[39;00m \u001b[38;5;167;01mValueError\u001b[39;00m(\u001b[38;5;124mf\u001b[39m\u001b[38;5;124m\"\u001b[39m\u001b[38;5;124mUnsupported component type: \u001b[39m\u001b[38;5;132;01m{\u001b[39;00m\u001b[38;5;28mtype\u001b[39m(component)\u001b[38;5;132;01m}\u001b[39;00m\u001b[38;5;124m\"\u001b[39m)\n\u001b[0;32m--> 115\u001b[0m \u001b[38;5;28;01mreturn\u001b[39;00m \u001b[43mcomponent\u001b[49m\u001b[38;5;241;43m.\u001b[39;49m\u001b[43mrun\u001b[49m\u001b[43m(\u001b[49m\u001b[43mincoming_event\u001b[49m\u001b[43m)\u001b[49m\n",
      "File \u001b[0;32m~/Documents/PythonProject/collie/example/mlp/../../collie/core/transform/transform.py:41\u001b[0m, in \u001b[0;36mTransformer.run\u001b[0;34m(self, event)\u001b[0m\n\u001b[1;32m     39\u001b[0m data \u001b[38;5;241m=\u001b[39m transformer_payload\u001b[38;5;241m.\u001b[39mmodel_dump()\n\u001b[1;32m     40\u001b[0m \u001b[38;5;28;01mfor\u001b[39;00m data_type, data \u001b[38;5;129;01min\u001b[39;00m data\u001b[38;5;241m.\u001b[39mitems():\n\u001b[0;32m---> 41\u001b[0m     \u001b[38;5;28;01mif\u001b[39;00m data:\n\u001b[1;32m     42\u001b[0m         artifact_path \u001b[38;5;241m=\u001b[39m TransformerArtifactPath\u001b[38;5;241m.\u001b[39mmodel_dump()[data_type]\n\u001b[1;32m     43\u001b[0m         \u001b[38;5;66;03m#TODO: remove the code after testing the log_text is working\u001b[39;00m\n\u001b[1;32m     44\u001b[0m         \u001b[38;5;66;03m# local_path = LocalArtifactDir.artifacts\u001b[39;00m\n",
      "File \u001b[0;32m~/opt/anaconda3/envs/collie/lib/python3.11/site-packages/pandas/core/generic.py:1577\u001b[0m, in \u001b[0;36mNDFrame.__nonzero__\u001b[0;34m(self)\u001b[0m\n\u001b[1;32m   1575\u001b[0m \u001b[38;5;129m@final\u001b[39m\n\u001b[1;32m   1576\u001b[0m \u001b[38;5;28;01mdef\u001b[39;00m \u001b[38;5;21m__nonzero__\u001b[39m(\u001b[38;5;28mself\u001b[39m) \u001b[38;5;241m-\u001b[39m\u001b[38;5;241m>\u001b[39m NoReturn:\n\u001b[0;32m-> 1577\u001b[0m     \u001b[38;5;28;01mraise\u001b[39;00m \u001b[38;5;167;01mValueError\u001b[39;00m(\n\u001b[1;32m   1578\u001b[0m         \u001b[38;5;124mf\u001b[39m\u001b[38;5;124m\"\u001b[39m\u001b[38;5;124mThe truth value of a \u001b[39m\u001b[38;5;132;01m{\u001b[39;00m\u001b[38;5;28mtype\u001b[39m(\u001b[38;5;28mself\u001b[39m)\u001b[38;5;241m.\u001b[39m\u001b[38;5;18m__name__\u001b[39m\u001b[38;5;132;01m}\u001b[39;00m\u001b[38;5;124m is ambiguous. \u001b[39m\u001b[38;5;124m\"\u001b[39m\n\u001b[1;32m   1579\u001b[0m         \u001b[38;5;124m\"\u001b[39m\u001b[38;5;124mUse a.empty, a.bool(), a.item(), a.any() or a.all().\u001b[39m\u001b[38;5;124m\"\u001b[39m\n\u001b[1;32m   1580\u001b[0m     )\n",
      "\u001b[0;31mValueError\u001b[0m: The truth value of a DataFrame is ambiguous. Use a.empty, a.bool(), a.item(), a.any() or a.all()."
     ]
    }
   ],
   "source": [
    "orchestrator = Orchestrator(\n",
    "    tracking_uri=\"http://localhost:5001\",\n",
    "    components=[\n",
    "        MLPTransformer(),\n",
    "        MLPTrainer(),\n",
    "        MLPEvaluator(),\n",
    "        MLPPusher()\n",
    "    ],\n",
    "    mlflow_tags={\"Example\": \"MLP\"},\n",
    "    experiment_name=\"MLP\",\n",
    ")\n",
    "orchestrator.run()"
   ]
  },
  {
   "cell_type": "code",
   "execution_count": null,
   "metadata": {},
   "outputs": [],
   "source": []
  },
  {
   "cell_type": "code",
   "execution_count": null,
   "metadata": {},
   "outputs": [],
   "source": []
  }
 ],
 "metadata": {
  "kernelspec": {
   "display_name": "collie",
   "language": "python",
   "name": "python3"
  },
  "language_info": {
   "codemirror_mode": {
    "name": "ipython",
    "version": 3
   },
   "file_extension": ".py",
   "mimetype": "text/x-python",
   "name": "python",
   "nbconvert_exporter": "python",
   "pygments_lexer": "ipython3",
   "version": "3.11.2"
  }
 },
 "nbformat": 4,
 "nbformat_minor": 2
}
